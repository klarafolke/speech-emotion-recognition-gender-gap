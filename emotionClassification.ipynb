{
 "cells": [
  {
   "cell_type": "code",
   "execution_count": null,
   "metadata": {},
   "outputs": [],
   "source": [
    "# hej julia\n",
    "\n"
   ]
  },
  {
   "attachments": {},
   "cell_type": "markdown",
   "id": "db165991",
   "metadata": {},
   "source": [
    "# Import  "
   ]
  },
  {
   "cell_type": "code",
   "execution_count": 1,
   "id": "2a064aa4",
   "metadata": {},
   "outputs": [],
   "source": [
    "import pandas as pd\n",
    "import numpy as np\n",
    "import librosa\n"
   ]
  },
  {
   "cell_type": "code",
   "execution_count": null,
   "id": "95d7c699",
   "metadata": {},
   "outputs": [],
   "source": []
  },
  {
   "attachments": {},
   "cell_type": "markdown",
   "id": "3e7d4221",
   "metadata": {},
   "source": [
    "# Feature extraction"
   ]
  },
  {
   "attachments": {},
   "cell_type": "markdown",
   "id": "c608b885",
   "metadata": {},
   "source": [
    "# Creating training and testing data"
   ]
  },
  {
   "attachments": {},
   "cell_type": "markdown",
   "id": "c0d99857",
   "metadata": {},
   "source": [
    "# Classification yippi"
   ]
  },
  {
   "cell_type": "markdown",
   "id": "a82c6c99",
   "metadata": {},
   "source": []
  }
 ],
 "metadata": {
  "kernelspec": {
   "display_name": "virtualEnvironment",
   "language": "python",
   "name": "python3"
  },
  "language_info": {
   "codemirror_mode": {
    "name": "ipython",
    "version": 3
   },
   "file_extension": ".py",
   "mimetype": "text/x-python",
   "name": "python",
   "nbconvert_exporter": "python",
   "pygments_lexer": "ipython3",
   "version": "3.10.10"
  }
 },
 "nbformat": 4,
 "nbformat_minor": 5
}
